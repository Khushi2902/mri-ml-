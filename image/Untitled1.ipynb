{
 "cells": [
  {
   "cell_type": "code",
   "execution_count": 1,
   "id": "c7d5ea14",
   "metadata": {},
   "outputs": [],
   "source": [
    "import numpy as np\n",
    "import pandas as pd\n",
    "import os\n",
    "import keras \n",
    "from keras.models import Sequential \n",
    "from keras.layers import Conv2D, Flatten, Dense, MaxPooling2D, Dropout\n",
    "from sklearn.metrics import accuracy_score\n",
    "from ipywidgets import widgets\n",
    "import io\n",
    "from PIL import Image\n",
    "import tqdm\n",
    "from sklearn.model_selection import train_test_split\n",
    "import cv2\n",
    "from sklearn.utils import shuffle\n",
    "import tensorflow as tf"
   ]
  },
  {
   "cell_type": "code",
   "execution_count": 2,
   "id": "91b1159b",
   "metadata": {},
   "outputs": [],
   "source": [
    "path = os.listdir('brain_tumor/Training/')\n",
    "labels = ['no_tumor',  'pituitary_tumor', 'glioma_tumor', 'meningioma_tumor']"
   ]
  },
  {
   "cell_type": "code",
   "execution_count": 31,
   "id": "9a3e134e",
   "metadata": {},
   "outputs": [],
   "source": [
    "X_train = []\n",
    "Y_train = []\n",
    "for cls in labels:\n",
    "    pth = 'brain_tumor/Training/'+cls\n",
    "    for j in os.listdir(pth):\n",
    "        img = cv2.imread(pth+'/'+j)\n",
    "        img = cv2.resize(img, (80,80))\n",
    "        X_train.append(img)\n",
    "        Y_train.append(cls)\n",
    "for cls in labels:\n",
    "    pth = 'brain_tumor/Testing/'+cls\n",
    "    for j in os.listdir(pth):\n",
    "        img = cv2.imread(pth+'/'+j)\n",
    "        img = cv2.resize(img, (80,80))\n",
    "        X_train.append(img)\n",
    "        Y_train.append(cls)"
   ]
  },
  {
   "cell_type": "code",
   "execution_count": 32,
   "id": "9edf146c",
   "metadata": {},
   "outputs": [],
   "source": [
    "X_train = np.array(X_train)\n",
    "Y_train = np.array(Y_train)"
   ]
  },
  {
   "cell_type": "code",
   "execution_count": 24,
   "id": "ec5bc9e2",
   "metadata": {},
   "outputs": [
    {
     "data": {
      "text/plain": [
       "(3264, 80, 80, 3)"
      ]
     },
     "execution_count": 24,
     "metadata": {},
     "output_type": "execute_result"
    }
   ],
   "source": [
    "X_train.shape"
   ]
  },
  {
   "cell_type": "code",
   "execution_count": 25,
   "id": "7deec4b9",
   "metadata": {},
   "outputs": [],
   "source": [
    "from tensorflow.keras.preprocessing.image import ImageDataGenerator"
   ]
  },
  {
   "cell_type": "code",
   "execution_count": 33,
   "id": "0d3e3ced",
   "metadata": {},
   "outputs": [],
   "source": [
    "datagen = ImageDataGenerator(\n",
    "    rotation_range=90,horizontal_flip=False,vertical_flip=True)\n",
    "X_train_new = X_train\n",
    "for i in range (2):\n",
    "    datagen.fit(X_train_new)\n",
    "    X_train = np.concatenate((X_train,X_train_new))"
   ]
  },
  {
   "cell_type": "code",
   "execution_count": 34,
   "id": "33acf9ed",
   "metadata": {},
   "outputs": [],
   "source": [
    "Y_train_new = Y_train\n",
    "Y_train = np.concatenate((Y_train,Y_train_new))\n",
    "Y_train = np.concatenate((Y_train,Y_train_new))"
   ]
  },
  {
   "cell_type": "code",
   "execution_count": 35,
   "id": "12695c69",
   "metadata": {},
   "outputs": [
    {
     "data": {
      "text/plain": [
       "(9792,)"
      ]
     },
     "execution_count": 35,
     "metadata": {},
     "output_type": "execute_result"
    }
   ],
   "source": [
    "Y_train.shape"
   ]
  },
  {
   "cell_type": "code",
   "execution_count": 36,
   "id": "b75fd859",
   "metadata": {},
   "outputs": [],
   "source": [
    "X_train, X_test, Y_train, Y_test = train_test_split(X_train, Y_train, test_size = 0.1, random_state = 101)"
   ]
  },
  {
   "cell_type": "code",
   "execution_count": 37,
   "id": "90436132",
   "metadata": {},
   "outputs": [],
   "source": [
    "Y_train_new = []\n",
    "for i in Y_train:\n",
    "    Y_train_new.append(labels.index(i))\n",
    "    \n",
    "Y_train = Y_train_new\n",
    "Y_train = tf.keras.utils.to_categorical(Y_train)\n",
    "\n",
    "Y_test_new = []\n",
    "for i in Y_test:\n",
    "    Y_test_new.append(labels.index(i))\n",
    "    \n",
    "Y_test = Y_test_new\n",
    "Y_test = tf.keras.utils.to_categorical(Y_test)"
   ]
  },
  {
   "cell_type": "code",
   "execution_count": 38,
   "id": "f874fe95",
   "metadata": {},
   "outputs": [
    {
     "data": {
      "text/plain": [
       "array([[1., 0., 0., 0.],\n",
       "       [0., 0., 1., 0.],\n",
       "       [0., 0., 0., 1.],\n",
       "       ...,\n",
       "       [0., 0., 1., 0.],\n",
       "       [0., 0., 1., 0.],\n",
       "       [0., 0., 1., 0.]], dtype=float32)"
      ]
     },
     "execution_count": 38,
     "metadata": {},
     "output_type": "execute_result"
    }
   ],
   "source": [
    "Y_train"
   ]
  },
  {
   "cell_type": "code",
   "execution_count": 39,
   "id": "f2df7d5e",
   "metadata": {},
   "outputs": [],
   "source": [
    "model = Sequential()\n",
    "model.add(Conv2D(64,(2,2),activation = 'relu',input_shape=(80,80,3)))\n",
    "model.add(Conv2D(64,(2,2),activation='relu'))\n",
    "model.add(MaxPooling2D(2,2))\n",
    "model.add(Dropout(0.1))\n",
    "model.add(Conv2D(32,(2,2),activation='relu'))\n",
    "model.add(Conv2D(32,(2,2),activation='relu'))\n",
    "#model.add(Dropout(0.3))\n",
    "model.add(MaxPooling2D(2,2))\n",
    "model.add(Dropout(0.1))\n",
    "model.add(Conv2D(16,(2,2),activation='relu'))\n",
    "model.add(Conv2D(16,(2,2),activation='relu'))\n",
    "#model.add(Conv2D(128,(3,3),activation='relu'))\n",
    "model.add(MaxPooling2D(2,2))\n",
    "model.add(Dropout(0.1))\n",
    "model.add(Conv2D(8,(2,2),activation='relu'))\n",
    "model.add(Conv2D(8,(2,2),activation='relu'))\n",
    "model.add(MaxPooling2D(2,2))\n",
    "model.add(Dropout(0.1))\n",
    "model.add(Flatten())\n",
    "model.add(Dense(1024,activation = 'relu'))\n",
    "#model.add(Dense(512,activation = 'relu'))\n",
    "model.add(Dropout(0.2))\n",
    "model.add(Dense(4,activation='softmax'))"
   ]
  },
  {
   "cell_type": "code",
   "execution_count": 40,
   "id": "332a0c00",
   "metadata": {},
   "outputs": [],
   "source": [
    "model.compile(loss = 'categorical_crossentropy', optimizer = 'Adam', metrics = ['accuracy'])"
   ]
  },
  {
   "cell_type": "code",
   "execution_count": 43,
   "id": "2aa9d182",
   "metadata": {},
   "outputs": [
    {
     "name": "stdout",
     "output_type": "stream",
     "text": [
      "Epoch 1/30\n",
      "248/248 [==============================] - 112s 453ms/step - loss: 0.1943 - accuracy: 0.9265 - val_loss: 0.1543 - val_accuracy: 0.9422\n",
      "Epoch 2/30\n",
      "248/248 [==============================] - 131s 528ms/step - loss: 0.1955 - accuracy: 0.9267 - val_loss: 0.1262 - val_accuracy: 0.9535\n",
      "Epoch 3/30\n",
      "248/248 [==============================] - 104s 419ms/step - loss: 0.1691 - accuracy: 0.9366 - val_loss: 0.0865 - val_accuracy: 0.9739\n",
      "Epoch 4/30\n",
      "248/248 [==============================] - 141s 570ms/step - loss: 0.1660 - accuracy: 0.9377 - val_loss: 0.1359 - val_accuracy: 0.9580\n",
      "Epoch 5/30\n",
      "248/248 [==============================] - 100s 401ms/step - loss: 0.1649 - accuracy: 0.9391 - val_loss: 0.0756 - val_accuracy: 0.9785\n",
      "Epoch 6/30\n",
      "248/248 [==============================] - 96s 387ms/step - loss: 0.1463 - accuracy: 0.9469 - val_loss: 0.0583 - val_accuracy: 0.9875\n",
      "Epoch 7/30\n",
      "248/248 [==============================] - 97s 390ms/step - loss: 0.1498 - accuracy: 0.9487 - val_loss: 0.0777 - val_accuracy: 0.9807\n",
      "Epoch 8/30\n",
      "248/248 [==============================] - 96s 386ms/step - loss: 0.1410 - accuracy: 0.9492 - val_loss: 0.0662 - val_accuracy: 0.9785\n",
      "Epoch 9/30\n",
      "248/248 [==============================] - 97s 390ms/step - loss: 0.1438 - accuracy: 0.9488 - val_loss: 0.0845 - val_accuracy: 0.9728\n",
      "Epoch 10/30\n",
      "248/248 [==============================] - 98s 396ms/step - loss: 0.1451 - accuracy: 0.9502 - val_loss: 0.0530 - val_accuracy: 0.9819\n",
      "Epoch 11/30\n",
      "248/248 [==============================] - 98s 395ms/step - loss: 0.1238 - accuracy: 0.9564 - val_loss: 0.0571 - val_accuracy: 0.9807\n",
      "Epoch 12/30\n",
      "248/248 [==============================] - 96s 387ms/step - loss: 0.1409 - accuracy: 0.9482 - val_loss: 0.0605 - val_accuracy: 0.9853\n",
      "Epoch 13/30\n",
      "248/248 [==============================] - 98s 396ms/step - loss: 0.1080 - accuracy: 0.9607 - val_loss: 0.0381 - val_accuracy: 0.9932\n",
      "Epoch 14/30\n",
      "248/248 [==============================] - 98s 393ms/step - loss: 0.1244 - accuracy: 0.9569 - val_loss: 0.0597 - val_accuracy: 0.9875\n",
      "Epoch 15/30\n",
      "248/248 [==============================] - 97s 391ms/step - loss: 0.1303 - accuracy: 0.9527 - val_loss: 0.0505 - val_accuracy: 0.9887\n",
      "Epoch 16/30\n",
      "248/248 [==============================] - 98s 397ms/step - loss: 0.1035 - accuracy: 0.9665 - val_loss: 0.0393 - val_accuracy: 0.9898\n",
      "Epoch 17/30\n",
      "248/248 [==============================] - 95s 385ms/step - loss: 0.1151 - accuracy: 0.9574 - val_loss: 0.0455 - val_accuracy: 0.9887\n",
      "Epoch 18/30\n",
      "248/248 [==============================] - 96s 386ms/step - loss: 0.1159 - accuracy: 0.9610 - val_loss: 0.0297 - val_accuracy: 0.9943\n",
      "Epoch 19/30\n",
      "248/248 [==============================] - 98s 397ms/step - loss: 0.1088 - accuracy: 0.9618 - val_loss: 0.0335 - val_accuracy: 0.9909\n",
      "Epoch 20/30\n",
      "248/248 [==============================] - 102s 412ms/step - loss: 0.1075 - accuracy: 0.9625 - val_loss: 0.0497 - val_accuracy: 0.9864\n",
      "Epoch 21/30\n",
      "248/248 [==============================] - 121s 487ms/step - loss: 0.0935 - accuracy: 0.9670 - val_loss: 0.0364 - val_accuracy: 0.9909\n",
      "Epoch 22/30\n",
      "248/248 [==============================] - 103s 415ms/step - loss: 0.1030 - accuracy: 0.9665 - val_loss: 0.0228 - val_accuracy: 0.9943\n",
      "Epoch 23/30\n",
      "248/248 [==============================] - 96s 387ms/step - loss: 0.0984 - accuracy: 0.9670 - val_loss: 0.0313 - val_accuracy: 0.9943\n",
      "Epoch 24/30\n",
      "248/248 [==============================] - 99s 397ms/step - loss: 0.0937 - accuracy: 0.9670 - val_loss: 0.0226 - val_accuracy: 0.9977\n",
      "Epoch 25/30\n",
      "248/248 [==============================] - 98s 396ms/step - loss: 0.1147 - accuracy: 0.9617 - val_loss: 0.0436 - val_accuracy: 0.9898\n",
      "Epoch 26/30\n",
      "248/248 [==============================] - 97s 392ms/step - loss: 0.0883 - accuracy: 0.9699 - val_loss: 0.0227 - val_accuracy: 0.9943\n",
      "Epoch 27/30\n",
      "248/248 [==============================] - 97s 392ms/step - loss: 0.0974 - accuracy: 0.9658 - val_loss: 0.1043 - val_accuracy: 0.9615\n",
      "Epoch 28/30\n",
      "248/248 [==============================] - 98s 396ms/step - loss: 0.0885 - accuracy: 0.9686 - val_loss: 0.0231 - val_accuracy: 0.9955\n",
      "Epoch 29/30\n",
      "248/248 [==============================] - 98s 394ms/step - loss: 0.1010 - accuracy: 0.9663 - val_loss: 0.0145 - val_accuracy: 0.9989\n",
      "Epoch 30/30\n",
      "248/248 [==============================] - 99s 399ms/step - loss: 0.0936 - accuracy: 0.9666 - val_loss: 0.0237 - val_accuracy: 0.9909\n"
     ]
    }
   ],
   "source": [
    "history = model.fit(X_train, Y_train, epochs = 30, validation_split = 0.1)"
   ]
  },
  {
   "cell_type": "code",
   "execution_count": 45,
   "id": "fb990664",
   "metadata": {},
   "outputs": [
    {
     "name": "stdout",
     "output_type": "stream",
     "text": [
      "276/276 [==============================] - 15s 55ms/step - loss: 0.0142 - accuracy: 0.9965\n",
      "Test loss: 0.014240228570997715\n",
      "Test accuracy: 0.9964820742607117\n"
     ]
    }
   ],
   "source": [
    "loss, accuracy = model.evaluate(X_train, Y_train)\n",
    "print('Test loss:', loss)\n",
    "print('Test accuracy:', accuracy)"
   ]
  },
  {
   "cell_type": "code",
   "execution_count": null,
   "id": "230ce398",
   "metadata": {},
   "outputs": [],
   "source": []
  }
 ],
 "metadata": {
  "kernelspec": {
   "display_name": "Python 3 (ipykernel)",
   "language": "python",
   "name": "python3"
  },
  "language_info": {
   "codemirror_mode": {
    "name": "ipython",
    "version": 3
   },
   "file_extension": ".py",
   "mimetype": "text/x-python",
   "name": "python",
   "nbconvert_exporter": "python",
   "pygments_lexer": "ipython3",
   "version": "3.9.16"
  }
 },
 "nbformat": 4,
 "nbformat_minor": 5
}
